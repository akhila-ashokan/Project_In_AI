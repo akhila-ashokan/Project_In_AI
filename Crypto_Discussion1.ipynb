{
  "nbformat": 4,
  "nbformat_minor": 0,
  "metadata": {
    "colab": {
      "name": "Crypto-Discussion1.ipynb",
      "provenance": [],
      "collapsed_sections": [],
      "toc_visible": true,
      "include_colab_link": true
    },
    "kernelspec": {
      "name": "python3",
      "display_name": "Python 3"
    }
  },
  "cells": [
    {
      "cell_type": "markdown",
      "metadata": {
        "id": "view-in-github",
        "colab_type": "text"
      },
      "source": [
        "<a href=\"https://colab.research.google.com/github/akhila-ashokan/Project_In_AI/blob/master/Crypto_Discussion1.ipynb\" target=\"_parent\"><img src=\"https://colab.research.google.com/assets/colab-badge.svg\" alt=\"Open In Colab\"/></a>"
      ]
    },
    {
      "cell_type": "markdown",
      "metadata": {
        "id": "WC9PybP0cFfj"
      },
      "source": [
        "# String encoding\n",
        "\n",
        "- To a computer, all **data** is bytes (e.g., integer, pointer, strings)\n",
        "- To get strings, we must map bytes to characters/symbols (e.g., 7-bit ASCII) \n",
        "- 1 byte per character is not enough (max 256 characters)\n",
        "- Unicode! Mapping of symbols to integers/code points (e.g., 💻 == U+0x1F4BB), currently 143K characters\n",
        "- How to represent these integers/code points as bytes? Encoding (e.g., UTF-8 variable length encoding)"
      ]
    },
    {
      "cell_type": "code",
      "metadata": {
        "id": "q57bByqvgbLn",
        "colab": {
          "base_uri": "https://localhost:8080/"
        },
        "outputId": "c067b619-0cc6-4c9a-d7f2-94c57eccf449"
      },
      "source": [
        "# Decoding = going from bytes to a string using <bytes-obj>.decode(<encoding-type>)\n",
        "value =  b'\\xf0\\x9f\\x98\\x8e'\n",
        "\n",
        "# TODO: interpret/print this value as a decimal (big-endian)\n",
        "print('Big endian decimal value is', None)\n",
        "# TODO: interpret/print this value as a decimal (little-endian, signed)\n",
        "print('Little endian signed decimal value is', None)\n",
        "# TODO: interpret/print this value as a 'mac_roman' string\n",
        "print('Mac Roman decoding is ', None)\n",
        "# TODO: interpret/print this value as a 'utf-8' string\n",
        "print('UTF-8 decoding is', None)\n",
        "\n",
        "mystery = b'\\xa2\\x96\\x93\\xa4\\xa3\\x89\\x96\\x95'\n",
        "# TODO: infer the encoding of the above text, which contains an english word\n",
        "# hint: https://docs.python.org/3.7/library/codecs.html#standard-encodings\n",
        "# hint: it's one of the first 10 listed encodings\n",
        "# How would you generalize the inference of character encoding for some large text file with unspecified encoding?"
      ],
      "execution_count": null,
      "outputs": [
        {
          "output_type": "stream",
          "text": [
            "Big endian decimal value is None\n",
            "Little endian signed decimal value is None\n",
            "Mac Roman decoding is  None\n",
            "UTF-8 decoding is None\n"
          ],
          "name": "stdout"
        }
      ]
    },
    {
      "cell_type": "markdown",
      "metadata": {
        "id": "CCU7SDzCwg5B"
      },
      "source": [
        "# Strings, Bytes, Bytearrays and Integers\n",
        "\n",
        "Often in cryptography we need to perform arithmetic on strings or bytes. Learn our standard method of converting between bytes and integers. Fortunately python supports integers of arbitrary size.\n",
        "- We always use big endian integers\n",
        "- We always use unsigned integers\n",
        "\n"
      ]
    },
    {
      "cell_type": "code",
      "metadata": {
        "id": "xu3uoRRcBUAq",
        "colab": {
          "base_uri": "https://localhost:8080/"
        },
        "outputId": "6c4e4e58-4b0d-4aac-febd-01680ef717f6"
      },
      "source": [
        "i = 0x41614161\n",
        "s = \"Hello World\"\n",
        "\n",
        "print(\"i is of type\", type(i))\n",
        "print(\"i in base-10 is\", i)\n",
        "\n",
        "# TODO: convert i to bytes (4 bytes, big endian) & print ascii decoding\n",
        "print(\"i --> bytes --> ascii is\", None)\n",
        "\n",
        "# In some languages, ints are fixed 4-bytes and doesn't need to be specified. This is not the case with python3. \n",
        "# Given an arbitrary unsigned int x with x.bit_length() bits, how would you calculate the size of the output bytes?\n",
        "\n",
        "# TODO: convert i to bytes (4 bytes, big endian) & print hex decoding\n",
        "h1 = None # TODO: fill-in\n",
        "print(\"i --> bytes --> hex string is\", h1)\n",
        "\n",
        "# a way to convert i directly to hex string\n",
        "h2 = hex(i)\n",
        "\n",
        "# TODO: convert h1 to bytes & print ascii decoding\n",
        "print(\"h1 as ascii is\", None)\n",
        "\n",
        "# TODO: convert h2 to bytes & print ascii decoding\n",
        "print(\"h2 as ascii is\", None)\n",
        "\n",
        "# TODO: encode s as 'ascii' string & print integer (big endian) value\n",
        "print(\"s with ascii encoding as an integer is\", None)\n",
        "\n",
        "# TODO: encode s as 'cp500' string & print integer (big endian) value\n",
        "print(\"s with cp500 encoding as an integer is\", None)\n",
        "\n",
        "\n",
        "# Some common mistakes to avoid when using bytes.fromhex\n",
        "try:\n",
        "  bytes.fromhex(\"0xA10\")\n",
        "  bytes.fromhex(0xA10)\n",
        "  bytes.fromhex(\"A10\")\n",
        "  bytes.fromhex(b\"0A10\")\n",
        "except Exception as err:\n",
        "  pass"
      ],
      "execution_count": null,
      "outputs": [
        {
          "output_type": "stream",
          "text": [
            "i is of type <class 'int'>\n",
            "i in base-10 is 1096892769\n",
            "i --> bytes --> ascii is None\n",
            "i --> bytes --> hex string is None\n",
            "h1 as ascii is None\n",
            "h2 as ascii is None\n",
            "s with ascii encoding as an integer is None\n",
            "s with cp500 encoding as an integer is None\n"
          ],
          "name": "stdout"
        }
      ]
    },
    {
      "cell_type": "markdown",
      "metadata": {
        "id": "u5YQAvjrRtEl"
      },
      "source": [
        "# Attacking Hashes\n",
        "\n",
        "Here is a weak hashing algorithm similar to the one in the MP. **(Be sure to run this section so the function is defined for the later parts)**\n"
      ]
    },
    {
      "cell_type": "code",
      "metadata": {
        "id": "bOFXLVtoR66P"
      },
      "source": [
        "def SuperWeakHash(n):\n",
        "  assert type(n) is bytes\n",
        "  answ = 0xAE\n",
        "  for b in n:\n",
        "    answ = ((answ ^ b) << 1 ) & 0xFF\n",
        "  return answ"
      ],
      "execution_count": null,
      "outputs": []
    },
    {
      "cell_type": "markdown",
      "metadata": {
        "id": "bfyy9SAKSsFV"
      },
      "source": [
        "It takes any number of bytes as input and returns a single byte as an output"
      ]
    },
    {
      "cell_type": "code",
      "metadata": {
        "colab": {
          "base_uri": "https://localhost:8080/"
        },
        "id": "rdcBrxmHSrhZ",
        "outputId": "fdadec90-d4f9-4f92-a955-25b392eed9bf"
      },
      "source": [
        "n1 = b'HELLO WORLD!'\n",
        "n2 = b'Pizza dough is best left to rise overnight in the fridge'\n",
        "print(f\"H(n1) = {hex(SuperWeakHash(n1))}\")\n",
        "print(f\"H(n2) = {hex(SuperWeakHash(n2))}\")"
      ],
      "execution_count": null,
      "outputs": [
        {
          "output_type": "stream",
          "text": [
            "H(n1) = 0x32\n",
            "H(n2) = 0x26\n"
          ],
          "name": "stdout"
        }
      ]
    },
    {
      "cell_type": "markdown",
      "metadata": {
        "id": "-jyFZ7EdTd87"
      },
      "source": [
        "## Hash collisions\n",
        "This hash function is vulnerable to hash collisions. Can you find A and B such that A != B && H(a) == H(b)?"
      ]
    },
    {
      "cell_type": "code",
      "metadata": {
        "id": "E_AjsqeKTnxH",
        "colab": {
          "base_uri": "https://localhost:8080/"
        },
        "outputId": "de8736c4-5c19-49e5-c850-35d13570660b"
      },
      "source": [
        "# TODO: Find a hash collision by replacing A and B\n",
        "\n",
        "A = b'Something'\n",
        "B = b\"Something Else\"\n",
        "\n",
        "# Pass this test to prove you have a hash collision:\n",
        "h_A = SuperWeakHash(A)\n",
        "h_B = SuperWeakHash(B)\n",
        "try:\n",
        "  assert A != B \n",
        "  assert h_A == h_B, f\"\\nInvalid Collision!!\\nA=0x{A.hex()}\\nB=0x{B.hex()}\\nH(A)={hex(h_A)} and H(B)={hex(h_B)}\"\n",
        "  print(f\"{A} and {B} are a hash collision!\")\n",
        "except Exception as err:\n",
        "  print(err)"
      ],
      "execution_count": null,
      "outputs": [
        {
          "output_type": "stream",
          "text": [
            "\n",
            "Invalid Collision!!\n",
            "A=0x536f6d657468696e67\n",
            "B=0x536f6d657468696e6720456c7365\n",
            "H(A)=0xfe and H(B)=0xf6\n"
          ],
          "name": "stdout"
        }
      ]
    },
    {
      "cell_type": "markdown",
      "metadata": {
        "id": "0GMBdmzRXpIO"
      },
      "source": [
        "## Second preimage\n",
        "This hash function is also vulnerable to a Second Preimage attack. Given A, find B such that H(A)=H(B)"
      ]
    },
    {
      "cell_type": "code",
      "metadata": {
        "id": "ULtt0rWHYOpP",
        "colab": {
          "base_uri": "https://localhost:8080/"
        },
        "outputId": "a4b27457-3beb-410b-9e57-87124f1043a2"
      },
      "source": [
        "# TODO Find a second preimage attack for A = b'DO NOT CHANGE ME'\n",
        "\n",
        "B = b\"TODO: CHANGE\"\n",
        "\n",
        "# Pass this test to prove you have a second preimage attack:\n",
        "A = b'DO NOT CHANGE ME'\n",
        "h_A = SuperWeakHash(A)\n",
        "h_B = SuperWeakHash(B)\n",
        "try:\n",
        "  assert A != B \n",
        "  assert A == b'DO NOT CHANGE ME'\n",
        "  assert h_A == h_B, f\"\\nInvalid Second Preimage!!\\nA=0x{A.hex()}\\nB=0x{B.hex()}\\nH(A)={hex(h_A)} and H(B)={hex(h_B)}\"\n",
        "  print(f\"{B} is a second preimage for {hex(h_A)}!\")\n",
        "except Exception as err:\n",
        "  print(err)"
      ],
      "execution_count": null,
      "outputs": [
        {
          "output_type": "stream",
          "text": [
            "\n",
            "Invalid Second Preimage!!\n",
            "A=0x444f204e4f54204348414e4745204d45\n",
            "B=0x544f444f3a204348414e4745\n",
            "H(A)=0xe and H(B)=0x36\n"
          ],
          "name": "stdout"
        }
      ]
    },
    {
      "cell_type": "markdown",
      "metadata": {
        "id": "LoA4vU4_Yohg"
      },
      "source": [
        "## First preimage\n",
        "This function is also vulnerable to a First Preimage attack. If we give you H(A) can you find B such that H(B) = H(A)?"
      ]
    },
    {
      "cell_type": "code",
      "metadata": {
        "id": "yuM-ZHv2Y19C",
        "colab": {
          "base_uri": "https://localhost:8080/"
        },
        "outputId": "7dbafd7e-b19c-47b9-b0bd-d8db6b88e027"
      },
      "source": [
        "# TODO Find a first preimage attack when A = 0x5E\n",
        "\n",
        "B = b'???'\n",
        "\n",
        "# Pass this test to prove you have a second preimage attack:\n",
        "h_A = 0x5E\n",
        "h_B = SuperWeakHash(B)\n",
        "try: \n",
        "  assert h_A == 0x5E\n",
        "  assert h_A == h_B, f\"\\nInvalid First Preimage!!\\nA is unknown\\nB=0x{B.hex()}\\nH(A)={hex(h_A)} and H(B)={hex(h_B)}\"\n",
        "  print(f\"{B} is a first preimage for {hex(h_A)}!\")\n",
        "except Exception as err:\n",
        "  print(type(err), err)"
      ],
      "execution_count": null,
      "outputs": [
        {
          "output_type": "stream",
          "text": [
            "<class 'AssertionError'> \n",
            "Invalid First Preimage!!\n",
            "A is unknown\n",
            "B=0x3f3f3f\n",
            "H(A)=0x5e and H(B)=0xa\n"
          ],
          "name": "stdout"
        }
      ]
    },
    {
      "cell_type": "markdown",
      "metadata": {
        "id": "f4ByaUVSaUHW"
      },
      "source": [
        "# Breaking RSA*\n",
        "\n",
        "Can you break RSA? I just intercepted the following ciphertext `0x378c6292a` and I know the public modulus N is `167440623767` and e=`7`. Can you decrypt it?"
      ]
    },
    {
      "cell_type": "code",
      "metadata": {
        "id": "3AtpUDl1ap7Y",
        "colab": {
          "base_uri": "https://localhost:8080/",
          "height": 365
        },
        "outputId": "8f9d8878-4c83-4689-9616-30eff2f94bdf"
      },
      "source": [
        "!pip install pycryptodome\n",
        "from Crypto.Util.number import inverse\n",
        "from hashlib import sha256\n",
        "# Tool to factor large numbers: https://www.alpertron.com.ar/ECM.HTM\n",
        "\n",
        "ciphertext = 0x378c6292a\n",
        "e = 7\n",
        "N = 167440623767\n",
        "\n",
        "# Remember, (e, N) is the public key, and (d, N) is the private key\n",
        "# Encryption --> ciphertext = message^e (mod N)\n",
        "# Decryption --> message = ciphertext^d (mod N)\n",
        "\n",
        "# Relationship between p, q, N, e, d?\n",
        "# N = p * q\n",
        "# totient(N) = (p-1)(q-1)\n",
        "# d * e (mod totient(N)) = 1\n",
        "\n",
        "plaintext_bytes = b'' # TODO: figure this out\n",
        "# Pass this test to prove you have the correct plaintext\n",
        "assert sha256(plaintext_bytes).hexdigest() == \"cb1672da40caac73963633b6a58ff69a5142fdde3d424300152bec9297cfe9be\", sha256(plaintext_bytes).hexdigest()\n",
        "print(\"The plaintext is\", plaintext_bytes.decode('utf-8'))\n",
        "\n",
        "\n",
        "\n",
        "\n",
        "\n",
        "\n",
        "\n",
        "\n",
        "\n",
        "\n",
        "\n"
      ],
      "execution_count": null,
      "outputs": [
        {
          "output_type": "stream",
          "text": [
            "Collecting pycryptodome\n",
            "\u001b[?25l  Downloading https://files.pythonhosted.org/packages/ad/16/9627ab0493894a11c68e46000dbcc82f578c8ff06bc2980dcd016aea9bd3/pycryptodome-3.10.1-cp35-abi3-manylinux2010_x86_64.whl (1.9MB)\n",
            "\u001b[K     |████████████████████████████████| 1.9MB 5.8MB/s \n",
            "\u001b[?25hInstalling collected packages: pycryptodome\n",
            "Successfully installed pycryptodome-3.10.1\n"
          ],
          "name": "stdout"
        },
        {
          "output_type": "error",
          "ename": "AssertionError",
          "evalue": "ignored",
          "traceback": [
            "\u001b[0;31m---------------------------------------------------------------------------\u001b[0m",
            "\u001b[0;31mAssertionError\u001b[0m                            Traceback (most recent call last)",
            "\u001b[0;32m<ipython-input-1-1c2cf4b989cb>\u001b[0m in \u001b[0;36m<module>\u001b[0;34m()\u001b[0m\n\u001b[1;32m     19\u001b[0m \u001b[0mplaintext_bytes\u001b[0m \u001b[0;34m=\u001b[0m \u001b[0;34mb''\u001b[0m \u001b[0;31m# TODO: figure this out\u001b[0m\u001b[0;34m\u001b[0m\u001b[0;34m\u001b[0m\u001b[0m\n\u001b[1;32m     20\u001b[0m \u001b[0;31m# Pass this test to prove you have the correct plaintext\u001b[0m\u001b[0;34m\u001b[0m\u001b[0;34m\u001b[0m\u001b[0;34m\u001b[0m\u001b[0m\n\u001b[0;32m---> 21\u001b[0;31m \u001b[0;32massert\u001b[0m \u001b[0msha256\u001b[0m\u001b[0;34m(\u001b[0m\u001b[0mplaintext_bytes\u001b[0m\u001b[0;34m)\u001b[0m\u001b[0;34m.\u001b[0m\u001b[0mhexdigest\u001b[0m\u001b[0;34m(\u001b[0m\u001b[0;34m)\u001b[0m \u001b[0;34m==\u001b[0m \u001b[0;34m\"cb1672da40caac73963633b6a58ff69a5142fdde3d424300152bec9297cfe9be\"\u001b[0m\u001b[0;34m,\u001b[0m \u001b[0msha256\u001b[0m\u001b[0;34m(\u001b[0m\u001b[0mplaintext_bytes\u001b[0m\u001b[0;34m)\u001b[0m\u001b[0;34m.\u001b[0m\u001b[0mhexdigest\u001b[0m\u001b[0;34m(\u001b[0m\u001b[0;34m)\u001b[0m\u001b[0;34m\u001b[0m\u001b[0;34m\u001b[0m\u001b[0m\n\u001b[0m\u001b[1;32m     22\u001b[0m \u001b[0mprint\u001b[0m\u001b[0;34m(\u001b[0m\u001b[0;34m\"The plaintext is\"\u001b[0m\u001b[0;34m,\u001b[0m \u001b[0mplaintext_bytes\u001b[0m\u001b[0;34m.\u001b[0m\u001b[0mdecode\u001b[0m\u001b[0;34m(\u001b[0m\u001b[0;34m'utf-8'\u001b[0m\u001b[0;34m)\u001b[0m\u001b[0;34m)\u001b[0m\u001b[0;34m\u001b[0m\u001b[0;34m\u001b[0m\u001b[0m\n\u001b[1;32m     23\u001b[0m \u001b[0;34m\u001b[0m\u001b[0m\n",
            "\u001b[0;31mAssertionError\u001b[0m: e3b0c44298fc1c149afbf4c8996fb92427ae41e4649b934ca495991b7852b855"
          ]
        }
      ]
    }
  ]
}